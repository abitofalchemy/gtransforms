{
 "cells": [
  {
   "cell_type": "code",
   "execution_count": 1,
   "metadata": {},
   "outputs": [],
   "source": [
    "import mathchem \n",
    "%matplotlib inline\n",
    "\n",
    "import matplotlib.pyplot as plt"
   ]
  },
  {
   "cell_type": "code",
   "execution_count": 2,
   "metadata": {},
   "outputs": [],
   "source": [
    "m = mathchem.Mol(\"GhCH?_\")"
   ]
  },
  {
   "cell_type": "code",
   "execution_count": 3,
   "metadata": {},
   "outputs": [],
   "source": [
    "import networkx\n",
    "g = m.NX_graph()"
   ]
  },
  {
   "cell_type": "code",
   "execution_count": 4,
   "metadata": {},
   "outputs": [
    {
     "data": {
      "image/png": "[encoded data removed]",
      "text/plain": [
       "<Figure size 432x288 with 1 Axes>"
      ]
     },
     "metadata": {
      "needs_background": "light"
     },
     "output_type": "display_data"
    }
   ],
   "source": [
    "plt.axis('off')\n",
    "networkx.draw_networkx(g)"
   ]
  },
  {
   "cell_type": "markdown",
   "metadata": {},
   "source": [
    "### Signals or graph properties"
   ]
  },
  {
   "cell_type": "code",
   "execution_count": 5,
   "metadata": {},
   "outputs": [
    {
     "data": {
      "text/plain": [
       "[1, 2, 3, 3, 2, 1, 1, 1]"
      ]
     },
     "execution_count": 5,
     "metadata": {},
     "output_type": "execute_result"
    }
   ],
   "source": [
    "m.degrees()"
   ]
  },
  {
   "cell_type": "code",
   "execution_count": 6,
   "metadata": {},
   "outputs": [
    {
     "data": {
      "text/plain": [
       "[2.095293985223914,\n",
       " 1.355674293978083,\n",
       " 0.7376403052281872,\n",
       " 0.4772599964740198,\n",
       " -0.4772599964740197,\n",
       " -0.7376403052281874,\n",
       " -1.3556742939780824,\n",
       " -2.095293985223914]"
      ]
     },
     "execution_count": 6,
     "metadata": {},
     "output_type": "execute_result"
    }
   ],
   "source": [
    "# Listing the eigenvalues (sorted)\n",
    "m.spectrum()"
   ]
  },
  {
   "cell_type": "code",
   "execution_count": 7,
   "metadata": {},
   "outputs": [
    {
     "data": {
      "text/plain": [
       "9.331737161808407"
      ]
     },
     "execution_count": 7,
     "metadata": {},
     "output_type": "execute_result"
    }
   ],
   "source": [
    "m.energy()"
   ]
  },
  {
   "cell_type": "code",
   "execution_count": 8,
   "metadata": {},
   "outputs": [
    {
     "data": {
      "text/plain": [
       "5"
      ]
     },
     "execution_count": 8,
     "metadata": {},
     "output_type": "execute_result"
    }
   ],
   "source": [
    "m.diameter()"
   ]
  },
  {
   "cell_type": "code",
   "execution_count": 9,
   "metadata": {},
   "outputs": [
    {
     "data": {
      "text/plain": [
       "35.35173963576364"
      ]
     },
     "execution_count": 9,
     "metadata": {},
     "output_type": "execute_result"
    }
   ],
   "source": [
    "m.energy('distance')"
   ]
  },
  {
   "cell_type": "markdown",
   "metadata": {},
   "source": [
    "### Topological Indecies"
   ]
  },
  {
   "cell_type": "code",
   "execution_count": 10,
   "metadata": {},
   "outputs": [
    {
     "data": {
      "text/plain": [
       "3.718744015013406"
      ]
     },
     "execution_count": 10,
     "metadata": {},
     "output_type": "execute_result"
    }
   ],
   "source": [
    "m.randic_index()"
   ]
  },
  {
   "cell_type": "code",
   "execution_count": 11,
   "metadata": {},
   "outputs": [
    {
     "data": {
      "text/plain": [
       "68.0"
      ]
     },
     "execution_count": 11,
     "metadata": {},
     "output_type": "execute_result"
    }
   ],
   "source": [
    "m.wiener_index()"
   ]
  },
  {
   "cell_type": "code",
   "execution_count": 12,
   "metadata": {},
   "outputs": [
    {
     "name": "stdout",
     "output_type": "stream",
     "text": [
      "('Randic type lordeg', 2.8438916478754654)\n",
      "('Randic type lodeg', 2.7299489816502)\n",
      "('Randic type losdeg', 2.616490325742264)\n",
      "('sum lordeg', 9.619100888440022)\n",
      "('sum lodeg', 9.36426245424844)\n",
      "('sum losdeg', 9.163505820548298)\n",
      "('inverse sum lordeg', 5.850839147556535)\n",
      "('inverse sum lodeg', 6.277209401447514)\n",
      "('inverse sum losdeg', 7.41933062170102)\n",
      "('misbalance lordeg', 4.19258829587282)\n",
      "('misbalance lodeg', 4.394449154672439)\n",
      "('misbalance losdeg', 4.827795843250328)\n",
      "('inverse misbalance lordeg', 13.5871361370193)\n",
      "('inverse misbalance lodeg', 9.638475459784463)\n",
      "('inverse misbalance losdeg', 8.572749202696503)\n",
      "('min-max lordeg', 2.588621734172685)\n",
      "('min-max lodeg', 2.2618595071429146)\n",
      "('min-max losdeg', 1.7961447078834798)\n",
      "('max-min lordeg', 3.5179058764943196)\n",
      "('max-min lodeg', 4.169925001442312)\n",
      "('max-min losdeg', 6.024212257384523)\n",
      "('symmetric division lordeg', 6.106527610667005)\n",
      "('symmetric division lodeg', 6.431784508585228)\n",
      "('symmetric division losdeg', 7.820356965268003)\n",
      "('Randic type indeg', 2.111111111111111)\n",
      "('Randic type irdeg', 3.718744015013406)\n",
      "('Randic type rodeg', 14.1915082254503)\n",
      "('Randic type deg', 31.0)\n",
      "('Randic type sdeg', 179.0)\n",
      "('sum indeg', 8.0)\n",
      "('sum irdeg', 10.292528739883945)\n",
      "('sum rodeg', 20.049159094905644)\n",
      "('sum deg', 30.0)\n",
      "('sum sdeg', 74.0)\n",
      "('inverse sum indeg', 6.733333333333333)\n",
      "('inverse sum irdeg', 4.8626256154324325)\n",
      "('inverse sum rodeg', 2.4848275573014447)\n",
      "('inverse sum deg', 1.7333333333333334)\n",
      "('inverse sum sdeg', 0.8094017094017094)\n",
      "('misbalance indeg', 2.666666666666667)\n",
      "('misbalance irdeg', 1.690598923241497)\n",
      "('misbalance rodeg', 2.9282032302755088)\n",
      "('misbalance deg', 8.0)\n",
      "('misbalance sdeg', 32.0)\n",
      "('inverse misbalance indeg', 18.999999999999996)\n",
      "('inverse misbalance irdeg', 26.973962536829138)\n",
      "('inverse misbalance rodeg', 13.853006672199015)\n",
      "('inverse misbalance deg', 5.0)\n",
      "('inverse misbalance sdeg', 1.3166666666666667)\n",
      "('min-max rodeg', 5.201907262607799)\n",
      "('min-max deg', 4.0)\n",
      "('min-max sdeg', 2.611111111111111)\n",
      "('max-min rodeg', 9.742018482667122)\n",
      "('max-min deg', 14.0)\n",
      "('max-min sdeg', 31.5)\n",
      "('symmetric division rodeg', 14.943925745274921)\n",
      "('symmetric division deg', 18.0)\n",
      "('symmetric division sdeg', 34.111111111111114)\n",
      "('Randic type hadeg', 0.453125)\n",
      "('Randic type twodeg', 176.0)\n",
      "('sum hadeg', 3.75)\n",
      "('sum twodeg', 72.0)\n",
      "('inverse sum hadeg', 15.2)\n",
      "('inverse sum twodeg', 0.7625)\n",
      "('misbalance hadeg', 1.5)\n",
      "('misbalance twodeg', 24.0)\n",
      "('inverse misbalance hadeg', 29.333333333333332)\n",
      "('inverse misbalance twodeg', 1.8333333333333333)\n",
      "('min-max hadeg', 3.5)\n",
      "('min-max twodeg', 3.5)\n",
      "('max-min hadeg', 17.0)\n",
      "('max-min twodeg', 17.0)\n",
      "('symmetric division hadeg', 20.5)\n",
      "('symmetric division twodeg', 20.5)\n",
      "('Randic type lordi', 18.949466721002477)\n",
      "('Randic type lodi', 51.458996259604845)\n",
      "('Randic type losdi', 383.1287918923295)\n",
      "('sum lordi', 23.035079717838045)\n",
      "('sum lodi', 37.96262321019609)\n",
      "('sum losdi', 103.61514393434295)\n",
      "('inverse sum lordi', 2.128845445940919)\n",
      "('inverse sum lodi', 1.2947834007987264)\n",
      "('inverse sum losdi', 0.4789068758182011)\n",
      "('misbalance lordi', 0.611056149815818)\n",
      "('misbalance lodi', 2.0232018233569597)\n",
      "('misbalance losdi', 11.118540461971826)\n",
      "('inverse misbalance lordi', 60.19576828092953)\n",
      "('inverse misbalance lodi', 18.165073122839622)\n",
      "('inverse misbalance losdi', 3.3110399643924353)\n",
      "('min-max lordi', 6.641995656546614)\n",
      "('min-max lodi', 6.305869243805576)\n",
      "('min-max losdi', 5.693856368589348)\n",
      "('max-min lordi', 7.381346881071513)\n",
      "('max-min lodi', 7.7876017006209075)\n",
      "('max-min losdi', 8.6816439459621)\n",
      "('symmetric division lordi', 14.023342537618127)\n",
      "('symmetric division lodi', 14.093470944426485)\n",
      "('symmetric division losdi', 14.375500314551449)\n",
      "('Randic type indi', 0.032302188552188554)\n",
      "('Randic type irdi', 0.4703540222964993)\n",
      "('Randic type rodi', 106.6300159130876)\n",
      "('Randic type di', 1664.0)\n",
      "('Randic type sdi', 435584.0)\n",
      "('sum indi', 0.952020202020202)\n",
      "('sum irdi', 3.62985676107113)\n",
      "('sum rodi', 54.65072258471196)\n",
      "('sum di', 216.0)\n",
      "('sum sdi', 3504.0)\n",
      "('inverse sum indi', 52.6406015037594)\n",
      "('inverse sum irdi', 13.576693285295343)\n",
      "('inverse sum rodi', 0.9019383703301825)\n",
      "('inverse sum di', 0.23239348370927318)\n",
      "('inverse sum sdi', 0.0154484291984292)\n",
      "('misbalance indi', 0.1313131313131313)\n",
      "('misbalance irdi', 0.2568945848769989)\n",
      "('misbalance rodi', 4.0097064333344115)\n",
      "('misbalance di', 32.0)\n",
      "('misbalance sdi', 1040.0)\n",
      "('inverse misbalance indi', 285.33333333333337)\n",
      "('inverse misbalance irdi', 143.81686941279736)\n",
      "('inverse misbalance rodi', 9.197770161595699)\n",
      "('inverse misbalance di', 1.1666666666666665)\n",
      "('inverse misbalance sdi', 0.03774018379281537)\n",
      "('min-max rodi', 6.070649700269213)\n",
      "('min-max di', 5.287878787878788)\n",
      "('min-max sdi', 4.071740128558311)\n",
      "('max-min rodi', 8.104098699453395)\n",
      "('max-min di', 9.416666666666666)\n",
      "('max-min sdi', 12.836805555555555)\n",
      "('symmetric division rodi', 14.174748399722608)\n",
      "('symmetric division di', 14.704545454545453)\n",
      "('symmetric division sdi', 16.908545684113868)\n",
      "('Randic type hadi', 6.89251464791596e-08)\n",
      "('Randic type twodi', 552456945664.0)\n",
      "('sum hadi', 0.0015339851379394531)\n",
      "('sum twodi', 9199616.0)\n",
      "('inverse sum hadi', 146879.59457013576)\n",
      "('inverse sum twodi', 0.00015877425940328055)\n",
      "('misbalance hadi', 0.0009684562683105469)\n",
      "('misbalance twodi', 8896512.0)\n",
      "('inverse misbalance hadi', 150212.673015873)\n",
      "('inverse misbalance twodi', 4.078698536706349e-05)\n",
      "('min-max hadi', 1.1875)\n",
      "('min-max twodi', 1.1875)\n",
      "('max-min hadi', 289.0)\n",
      "('max-min twodi', 289.0)\n",
      "('symmetric division hadi', 290.1875)\n",
      "('symmetric division twodi', 290.1875)\n"
     ]
    }
   ],
   "source": [
    "for x in mathchem.all_adriatic():\n",
    "    print(mathchem.adriatic_name(*x), m.adriatic_index(*x))"
   ]
  },
  {
   "cell_type": "code",
   "execution_count": null,
   "metadata": {},
   "outputs": [],
   "source": []
  }
 ],
 "metadata": {
  "kernelspec": {
   "display_name": "Python 2",
   "language": "python",
   "name": "python2"
  },
  "language_info": {
   "codemirror_mode": {
    "name": "ipython",
    "version": 2
   },
   "file_extension": ".py",
   "mimetype": "text/x-python",
   "name": "python",
   "nbconvert_exporter": "python",
   "pygments_lexer": "ipython2",
   "version": "2.7.16"
  }
 },
 "nbformat": 4,
 "nbformat_minor": 2
}
